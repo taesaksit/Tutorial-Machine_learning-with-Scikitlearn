{
 "cells": [
  {
   "cell_type": "code",
   "execution_count": null,
   "id": "c02a38a2-328c-49f5-bb0e-781c20b9210e",
   "metadata": {},
   "outputs": [],
   "source": [
    "import cv2\n",
    "import matplotlib.pyplot as plt\n",
    "\n",
    "vdo_path = '/Users/tae/Desktop/10 Sec Timer.mp4'\n",
    "video = cv2.VideoCapture(vdo_path)\n",
    "ret = True\n",
    "while ret:\n",
    "    ret , frame = video.read()\n",
    "\n",
    "    if ret:\n",
    "        cv2.imshow('frame',frame)\n",
    "        cv2.waitKey(20)"
   ]
  },
  {
   "cell_type": "code",
   "execution_count": null,
   "id": "f80afe50-eb51-43ff-96d6-65183acd3416",
   "metadata": {},
   "outputs": [],
   "source": []
  }
 ],
 "metadata": {
  "kernelspec": {
   "display_name": "Python 3 (ipykernel)",
   "language": "python",
   "name": "python3"
  },
  "language_info": {
   "codemirror_mode": {
    "name": "ipython",
    "version": 3
   },
   "file_extension": ".py",
   "mimetype": "text/x-python",
   "name": "python",
   "nbconvert_exporter": "python",
   "pygments_lexer": "ipython3",
   "version": "3.8.19"
  }
 },
 "nbformat": 4,
 "nbformat_minor": 5
}
