{
 "cells": [
  {
   "cell_type": "code",
   "execution_count": 1,
   "id": "fcdde017",
   "metadata": {},
   "outputs": [],
   "source": [
    "import numpy as np\n",
    "import pandas as pd\n",
    "import matplotlib.pyplot as plt\n",
    "import seaborn as sns\n",
    "from sklearn.linear_model import LogisticRegression\n",
    "from sklearn.model_selection import train_test_split , GridSearchCV\n",
    "from sklearn.metrics import accuracy_score , classification_report\n",
    "from sklearn.preprocessing import StandardScaler\n",
    "from sklearn.impute import SimpleImputer\n",
    "\n",
    "df = df = pd.read_csv('https://github.com/mrpeerat/Machine_Learning_0-100/raw/master/04%20Logistic%20Regression/titanic_data.csv')"
   ]
  },
  {
   "cell_type": "code",
   "execution_count": 6,
   "id": "54636873",
   "metadata": {},
   "outputs": [],
   "source": [
    "df_select = df.drop(columns=['PassengerId','Survived','Name','Parch','Ticket','Cabin','Embarked','SibSp'])\n",
    "\n",
    "# Clean missing value\n",
    "imp = SimpleImputer(missing_values=np.nan , strategy='most_frequent')\n",
    "df_select[['Age']] = imp.fit_transform(df_select[[\"Age\"]])"
   ]
  },
  {
   "cell_type": "code",
   "execution_count": 9,
   "id": "43686eb7",
   "metadata": {},
   "outputs": [],
   "source": [
    "#Dumies value sex\n",
    "X = pd.get_dummies(df_select)\n",
    "y = df['Survived']\n",
    "\n",
    "#Normalize\n",
    "scale = StandardScaler()\n",
    "X = scale.fit_transform(X)\n",
    "\n"
   ]
  },
  {
   "cell_type": "code",
   "execution_count": 12,
   "id": "15da399d",
   "metadata": {},
   "outputs": [],
   "source": [
    "X_train , X_test , y_train , y_test = train_test_split(X,y , test_size=0.3 , random_state=42)"
   ]
  },
  {
   "cell_type": "code",
   "execution_count": 14,
   "id": "7dfc4a1b",
   "metadata": {},
   "outputs": [],
   "source": [
    "from sklearn import svm\n",
    "\n",
    "svm = svm.SVC()"
   ]
  },
  {
   "cell_type": "code",
   "execution_count": null,
   "id": "9f4d2745",
   "metadata": {},
   "outputs": [],
   "source": [
    "หอท"
   ]
  }
 ],
 "metadata": {
  "kernelspec": {
   "display_name": "Python 3 (ipykernel)",
   "language": "python",
   "name": "python3"
  },
  "language_info": {
   "codemirror_mode": {
    "name": "ipython",
    "version": 3
   },
   "file_extension": ".py",
   "mimetype": "text/x-python",
   "name": "python",
   "nbconvert_exporter": "python",
   "pygments_lexer": "ipython3",
   "version": "3.11.5"
  }
 },
 "nbformat": 4,
 "nbformat_minor": 5
}
