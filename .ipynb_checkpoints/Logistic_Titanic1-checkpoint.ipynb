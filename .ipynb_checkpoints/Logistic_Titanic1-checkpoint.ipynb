{
 "cells": [
  {
   "cell_type": "markdown",
   "id": "128c90ed",
   "metadata": {},
   "source": [
    "#  Logistic Regression"
   ]
  },
  {
   "cell_type": "code",
   "execution_count": 1,
   "id": "78772860",
   "metadata": {},
   "outputs": [],
   "source": [
    "import numpy as np\n",
    "import pandas as pd\n",
    "import matplotlib.pyplot as plt\n"
   ]
  },
  {
   "cell_type": "code",
   "execution_count": 3,
   "id": "520eb9a9",
   "metadata": {},
   "outputs": [],
   "source": [
    "df = df = pd.read_csv('https://github.com/prasertcbs/basic-dataset/raw/master/worldbank_gdp_gini_birth_death_suicide_rate.csv')"
   ]
  },
  {
   "cell_type": "code",
   "execution_count": 5,
   "id": "624db899",
   "metadata": {},
   "outputs": [
    {
     "data": {
      "text/html": [
       "<div>\n",
       "<style scoped>\n",
       "    .dataframe tbody tr th:only-of-type {\n",
       "        vertical-align: middle;\n",
       "    }\n",
       "\n",
       "    .dataframe tbody tr th {\n",
       "        vertical-align: top;\n",
       "    }\n",
       "\n",
       "    .dataframe thead th {\n",
       "        text-align: right;\n",
       "    }\n",
       "</style>\n",
       "<table border=\"1\" class=\"dataframe\">\n",
       "  <thead>\n",
       "    <tr style=\"text-align: right;\">\n",
       "      <th></th>\n",
       "      <th>country</th>\n",
       "      <th>year</th>\n",
       "      <th>GDP, PPP (current international $)</th>\n",
       "      <th>Gini index (World Bank estimate)</th>\n",
       "      <th>Birth rate, crude (per 1,000 people)</th>\n",
       "      <th>Death rate, crude (per 1,000 people)</th>\n",
       "      <th>Suicide mortality rate (per 100,000 population)</th>\n",
       "    </tr>\n",
       "  </thead>\n",
       "  <tbody>\n",
       "    <tr>\n",
       "      <th>0</th>\n",
       "      <td>Afghanistan</td>\n",
       "      <td>1960</td>\n",
       "      <td>NaN</td>\n",
       "      <td>NaN</td>\n",
       "      <td>51.279</td>\n",
       "      <td>32.219</td>\n",
       "      <td>NaN</td>\n",
       "    </tr>\n",
       "    <tr>\n",
       "      <th>1</th>\n",
       "      <td>Afghanistan</td>\n",
       "      <td>1961</td>\n",
       "      <td>NaN</td>\n",
       "      <td>NaN</td>\n",
       "      <td>51.373</td>\n",
       "      <td>31.649</td>\n",
       "      <td>NaN</td>\n",
       "    </tr>\n",
       "    <tr>\n",
       "      <th>2</th>\n",
       "      <td>Afghanistan</td>\n",
       "      <td>1962</td>\n",
       "      <td>NaN</td>\n",
       "      <td>NaN</td>\n",
       "      <td>51.457</td>\n",
       "      <td>31.093</td>\n",
       "      <td>NaN</td>\n",
       "    </tr>\n",
       "    <tr>\n",
       "      <th>3</th>\n",
       "      <td>Afghanistan</td>\n",
       "      <td>1963</td>\n",
       "      <td>NaN</td>\n",
       "      <td>NaN</td>\n",
       "      <td>51.530</td>\n",
       "      <td>30.551</td>\n",
       "      <td>NaN</td>\n",
       "    </tr>\n",
       "    <tr>\n",
       "      <th>4</th>\n",
       "      <td>Afghanistan</td>\n",
       "      <td>1964</td>\n",
       "      <td>NaN</td>\n",
       "      <td>NaN</td>\n",
       "      <td>51.589</td>\n",
       "      <td>30.022</td>\n",
       "      <td>NaN</td>\n",
       "    </tr>\n",
       "  </tbody>\n",
       "</table>\n",
       "</div>"
      ],
      "text/plain": [
       "       country  year  GDP, PPP (current international $)  \\\n",
       "0  Afghanistan  1960                                 NaN   \n",
       "1  Afghanistan  1961                                 NaN   \n",
       "2  Afghanistan  1962                                 NaN   \n",
       "3  Afghanistan  1963                                 NaN   \n",
       "4  Afghanistan  1964                                 NaN   \n",
       "\n",
       "   Gini index (World Bank estimate)  Birth rate, crude (per 1,000 people)  \\\n",
       "0                               NaN                                51.279   \n",
       "1                               NaN                                51.373   \n",
       "2                               NaN                                51.457   \n",
       "3                               NaN                                51.530   \n",
       "4                               NaN                                51.589   \n",
       "\n",
       "   Death rate, crude (per 1,000 people)  \\\n",
       "0                                32.219   \n",
       "1                                31.649   \n",
       "2                                31.093   \n",
       "3                                30.551   \n",
       "4                                30.022   \n",
       "\n",
       "   Suicide mortality rate (per 100,000 population)  \n",
       "0                                              NaN  \n",
       "1                                              NaN  \n",
       "2                                              NaN  \n",
       "3                                              NaN  \n",
       "4                                              NaN  "
      ]
     },
     "execution_count": 5,
     "metadata": {},
     "output_type": "execute_result"
    }
   ],
   "source": [
    "df.head()"
   ]
  },
  {
   "cell_type": "code",
   "execution_count": 6,
   "id": "89e11cf4",
   "metadata": {},
   "outputs": [
    {
     "name": "stdout",
     "output_type": "stream",
     "text": [
      "<class 'pandas.core.frame.DataFrame'>\n",
      "RangeIndex: 15576 entries, 0 to 15575\n",
      "Data columns (total 7 columns):\n",
      " #   Column                                           Non-Null Count  Dtype  \n",
      "---  ------                                           --------------  -----  \n",
      " 0   country                                          15576 non-null  object \n",
      " 1   year                                             15576 non-null  int64  \n",
      " 2   GDP, PPP (current international $)               6726 non-null   float64\n",
      " 3   Gini index (World Bank estimate)                 1649 non-null   float64\n",
      " 4   Birth rate, crude (per 1,000 people)             14515 non-null  float64\n",
      " 5   Death rate, crude (per 1,000 people)             14492 non-null  float64\n",
      " 6   Suicide mortality rate (per 100,000 population)  1145 non-null   float64\n",
      "dtypes: float64(5), int64(1), object(1)\n",
      "memory usage: 851.9+ KB\n"
     ]
    }
   ],
   "source": [
    "df.info()"
   ]
  },
  {
   "cell_type": "code",
   "execution_count": null,
   "id": "23e51fe7",
   "metadata": {},
   "outputs": [],
   "source": []
  }
 ],
 "metadata": {
  "kernelspec": {
   "display_name": "Python 3 (ipykernel)",
   "language": "python",
   "name": "python3"
  },
  "language_info": {
   "codemirror_mode": {
    "name": "ipython",
    "version": 3
   },
   "file_extension": ".py",
   "mimetype": "text/x-python",
   "name": "python",
   "nbconvert_exporter": "python",
   "pygments_lexer": "ipython3",
   "version": "3.11.5"
  }
 },
 "nbformat": 4,
 "nbformat_minor": 5
}
