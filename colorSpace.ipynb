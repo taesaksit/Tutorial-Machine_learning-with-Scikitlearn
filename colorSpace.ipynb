{
 "cells": [
  {
   "cell_type": "code",
   "execution_count": 5,
   "id": "1025be99-e834-4364-83ac-7e3135930e0b",
   "metadata": {},
   "outputs": [
    {
     "ename": "KeyboardInterrupt",
     "evalue": "",
     "output_type": "error",
     "traceback": [
      "\u001b[0;31m---------------------------------------------------------------------------\u001b[0m",
      "\u001b[0;31mKeyboardInterrupt\u001b[0m                         Traceback (most recent call last)",
      "Cell \u001b[0;32mIn[5], line 27\u001b[0m\n\u001b[1;32m     25\u001b[0m cv\u001b[38;5;241m.\u001b[39mimshow(\u001b[38;5;124m'\u001b[39m\u001b[38;5;124mmask\u001b[39m\u001b[38;5;124m'\u001b[39m,mask)\n\u001b[1;32m     26\u001b[0m cv\u001b[38;5;241m.\u001b[39mimshow(\u001b[38;5;124m'\u001b[39m\u001b[38;5;124mres\u001b[39m\u001b[38;5;124m'\u001b[39m,res)\n\u001b[0;32m---> 27\u001b[0m k \u001b[38;5;241m=\u001b[39m cv\u001b[38;5;241m.\u001b[39mwaitKey(\u001b[38;5;241m5\u001b[39m) \u001b[38;5;241m&\u001b[39m \u001b[38;5;241m0xFF\u001b[39m\n\u001b[1;32m     28\u001b[0m \u001b[38;5;28;01mif\u001b[39;00m k \u001b[38;5;241m==\u001b[39m \u001b[38;5;241m27\u001b[39m:\n\u001b[1;32m     29\u001b[0m     \u001b[38;5;28;01mbreak\u001b[39;00m\n",
      "\u001b[0;31mKeyboardInterrupt\u001b[0m: "
     ]
    }
   ],
   "source": [
    "import cv2 as cv\n",
    "import numpy as np\n",
    " \n",
    "cap = cv.VideoCapture(0)\n",
    " \n",
    "while(1):\n",
    " \n",
    " # Take each frame\n",
    " _, frame = cap.read()\n",
    " \n",
    " # Convert BGR to HSV\n",
    " hsv = cv.cvtColor(frame, cv.COLOR_BGR2HSV)\n",
    " \n",
    " # define range of blue color in HSV\n",
    " lower_blue = np.array([30,30,30])\n",
    " upper_blue = np.array([170,255,255])\n",
    " \n",
    " # Threshold the HSV image to get only blue colors\n",
    " mask = cv.inRange(hsv, lower_blue, upper_blue)\n",
    " \n",
    " # Bitwise-AND mask and original image\n",
    " res = cv.bitwise_and(frame,frame, mask= mask)\n",
    " \n",
    " cv.imshow('frame',frame)\n",
    " cv.imshow('mask',mask)\n",
    " cv.imshow('res',res)\n",
    " k = cv.waitKey(5) & 0xFF\n",
    " if k == 27:\n",
    "     break\n",
    " \n",
    "cv.destroyAllWindows()"
   ]
  }
 ],
 "metadata": {
  "kernelspec": {
   "display_name": "Python 3 (ipykernel)",
   "language": "python",
   "name": "python3"
  },
  "language_info": {
   "codemirror_mode": {
    "name": "ipython",
    "version": 3
   },
   "file_extension": ".py",
   "mimetype": "text/x-python",
   "name": "python",
   "nbconvert_exporter": "python",
   "pygments_lexer": "ipython3",
   "version": "3.11.8"
  }
 },
 "nbformat": 4,
 "nbformat_minor": 5
}
