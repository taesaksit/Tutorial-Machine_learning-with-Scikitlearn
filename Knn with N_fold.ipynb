{
 "cells": [
  {
   "cell_type": "markdown",
   "id": "1961990e",
   "metadata": {},
   "source": [
    "# KNN with N_fold"
   ]
  },
  {
   "cell_type": "code",
   "execution_count": 2,
   "id": "fb277782",
   "metadata": {},
   "outputs": [],
   "source": [
    "import numpy as np\n",
    "import pandas as pd\n",
    "import matplotlib.pyplot as plt\n",
    "import seaborn as sns"
   ]
  },
  {
   "cell_type": "code",
   "execution_count": 7,
   "id": "12ca92d6",
   "metadata": {},
   "outputs": [],
   "source": [
    "from sklearn.model_selection import train_test_split , KFold\n",
    "from sklearn.neighbors import KNeighborsClassifier\n",
    "from sklearn.metrics import accuracy_score , classification_report , confusion_matrix"
   ]
  },
  {
   "cell_type": "code",
   "execution_count": 51,
   "id": "b83c5e55",
   "metadata": {},
   "outputs": [],
   "source": [
    "df = pd.read_excel('/Users/tae/Desktop/Project/Dataset/normalize/Normalize512.xlsx')\n"
   ]
  },
  {
   "cell_type": "code",
   "execution_count": 52,
   "id": "ac25ee1c",
   "metadata": {},
   "outputs": [],
   "source": [
    "knn = KNeighborsClassifier(n_neighbors=5)\n",
    "kf = KFold(n_splits=10)\n",
    "\n",
    "X = df.drop(columns=['class'])\n",
    "y = df['class']\n",
    "\n",
    "X = np.array(X)\n",
    "y = np.array(y)"
   ]
  },
  {
   "cell_type": "code",
   "execution_count": 115,
   "id": "eb69a2f2",
   "metadata": {},
   "outputs": [
    {
     "name": "stdout",
     "output_type": "stream",
     "text": [
      "(3655, 512)\n",
      "(407, 512)\n",
      "(3655, 512)\n",
      "(407, 512)\n",
      "(3656, 512)\n",
      "(406, 512)\n",
      "(3656, 512)\n",
      "(406, 512)\n",
      "(3656, 512)\n",
      "(406, 512)\n",
      "(3656, 512)\n",
      "(406, 512)\n",
      "(3656, 512)\n",
      "(406, 512)\n",
      "(3656, 512)\n",
      "(406, 512)\n",
      "(3656, 512)\n",
      "(406, 512)\n",
      "(3656, 512)\n",
      "(406, 512)\n",
      "Average Accuracy: 0.9286852010989941\n"
     ]
    }
   ],
   "source": [
    "acc = []\n",
    "\n",
    "for train_index, test_index in kf.split(X):\n",
    "    X_train , X_test  = X[train_index] , X[test_index]\n",
    "    y_train , y_test  = y[train_index] , y[test_index]\n",
    "    \n",
    "    \n",
    "    print(X_train.shape)\n",
    "    print(X_test.shape)\n",
    "    \n",
    "    knn.fit(X_train, y_train)\n",
    "    y_pred = knn.predict(X_test)\n",
    "    accuracy = accuracy_score(y_test, y_pred)\n",
    "    acc.append(accuracy)\n",
    "\n",
    "\n",
    "average_accuracy = sum(accuracy_scores) / len(accuracy_scores)\n",
    "print(\"Average Accuracy:\", average_accuracy)\n",
    "\n"
   ]
  },
  {
   "cell_type": "code",
   "execution_count": 116,
   "id": "199237b6",
   "metadata": {},
   "outputs": [
    {
     "data": {
      "text/plain": [
       "[0.5847665847665847,\n",
       " 0.9533169533169533,\n",
       " 0.9359605911330049,\n",
       " 0.9605911330049262,\n",
       " 0.9605911330049262,\n",
       " 0.9679802955665024,\n",
       " 0.9556650246305419,\n",
       " 0.9876847290640394,\n",
       " 0.9876847290640394,\n",
       " 0.9926108374384236]"
      ]
     },
     "execution_count": 116,
     "metadata": {},
     "output_type": "execute_result"
    }
   ],
   "source": [
    "accuracy_scores"
   ]
  },
  {
   "cell_type": "code",
   "execution_count": null,
   "id": "3edb7bad",
   "metadata": {},
   "outputs": [],
   "source": []
  }
 ],
 "metadata": {
  "kernelspec": {
   "display_name": "Python 3 (ipykernel)",
   "language": "python",
   "name": "python3"
  },
  "language_info": {
   "codemirror_mode": {
    "name": "ipython",
    "version": 3
   },
   "file_extension": ".py",
   "mimetype": "text/x-python",
   "name": "python",
   "nbconvert_exporter": "python",
   "pygments_lexer": "ipython3",
   "version": "3.11.5"
  }
 },
 "nbformat": 4,
 "nbformat_minor": 5
}
